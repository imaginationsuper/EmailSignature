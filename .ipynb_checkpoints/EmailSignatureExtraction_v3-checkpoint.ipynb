{
 "cells": [
  {
   "cell_type": "markdown",
   "metadata": {},
   "source": [
    "Continue with v2, split the dataset into training and testing datasets by ratio of 60:40."
   ]
  },
  {
   "cell_type": "code",
   "execution_count": 1,
   "metadata": {
    "collapsed": true
   },
   "outputs": [],
   "source": [
    "import logging # record log event\n",
    "logging.basicConfig(format='%(asctime)s : %(levelname)s : %(message)s', level=logging.INFO)"
   ]
  },
  {
   "cell_type": "markdown",
   "metadata": {},
   "source": [
    "Load positive(email signatures) and negative(email body contents) data respectively."
   ]
  },
  {
   "cell_type": "code",
   "execution_count": 2,
   "metadata": {
    "collapsed": false
   },
   "outputs": [
    {
     "name": "stdout",
     "output_type": "stream",
     "text": [
      "[['helyette', 'geman', 'universite', 'de', 'paris', 'dauphine', 'finance', 'department', 'au', 'de', 'ka', 'grand', 'ecole', 'corgy', 'pontois', 'paris', 'france', 't'], ['kind', 'regards', 'nia', 'mansell', 'infocast', 'conference', 'manager', 'ext', 'fax', 'niam', 'informationforecast', 'com'], ['sincerely', 'daniel', 'yergin', 'chairman', 'cambridge', 'energy', 'research', 'associates'], ['thank', 'you', 'clare', 'fitzgerald', 'director', 'training', 'courses', 'marcus', 'evans', 'x'], ['westin', 'galleria', 'hotel', 'west', 'alabama', 'houston', 'texas']]\n",
      "[['symposium', 'features', 'leaders', 'from', 'ferc', 'electric'], ['since', 'we', 'add', 'to', 'it', 'frequently'], ['your', 'registration', 'fee', 'is', 'inclusive', 'of', 'the', 'following'], ['and', 'decision', 'makers', 'of', 'the', 'electric', 'power', 'industry'], ['assets', 'management', 'is', 'also', 'very', 'informative', 'a', 'talk', 'about', 'using', 'real', 'option']]\n",
      "45 338 27 18\n"
     ]
    }
   ],
   "source": [
    "import re\n",
    "import math\n",
    "import collections\n",
    "import sklearn.naive_bayes\n",
    "import sklearn.linear_model\n",
    "import nltk\n",
    "import random\n",
    "random.seed(0)\n",
    "from gensim.models.doc2vec import LabeledSentence, Doc2Vec\n",
    "\n",
    "def load_data(path_to_data):\n",
    "    train_pos = []\n",
    "    train_neg = []\n",
    "    sigwords = []\n",
    "    with open(path_to_data+\"EnronSignatures.txt\",'r') as fes:\n",
    "        for line in fes:\n",
    "            if len(line) <= 3:\n",
    "                train_pos.append((' '.join(sigwords)).split()) # combine all the texts of each signature\n",
    "                sigwords = []\n",
    "            else:\n",
    "                sigwords.append(' '.join(line.lower().strip().split()))\n",
    "    with open(path_to_data+\"train_content.txt\",'r') as ftc:\n",
    "        for line in ftc:\n",
    "            words = [w.lower() for w in line.strip().split()]\n",
    "            if len(words) < 2:\n",
    "                continue\n",
    "            train_neg.append(words)\n",
    "    return train_pos, train_neg\n",
    "\n",
    "def data_filter(raw_text_data):\n",
    "    clean_text_data = []\n",
    "    for entry in raw_text_data:\n",
    "        clean_entry = re.sub(r\"\\n|(\\\\(.*?){)|}|[!$%^&*#()_+|~\\-={}\\[\\]:\\\";'<>?,.\\/\\\\]|[0-9]|[@]\", ' ', ' '.join(entry))\n",
    "        #clean_entry = re.sub(r\"\\n|(\\\\(.*?){)|}|[!$%^&*#_+|\\={}\\[\\]\\\";'<>?,.\\/]|[0-9]\", ' ', ' '.join(entry))\n",
    "        clean_entry = re.sub('\\s+', ' ', clean_entry)\n",
    "        clean_text_data.append(clean_entry.split())\n",
    "    return clean_text_data\n",
    "\n",
    "data_pos, data_neg = load_data('./')\n",
    "data_pos = data_filter(data_pos)\n",
    "data_neg = data_filter(data_neg)\n",
    "#data_size = min(len(data_pos), len(data_neg))\n",
    "random.shuffle(data_pos)\n",
    "random.shuffle(data_neg)\n",
    "#data_pos = data_pos[:data_size]\n",
    "#data_neg = data_neg[:data_size]\n",
    "data_size_p = len(data_pos) # --\n",
    "data_size_n = len(data_neg) # --\n",
    "cutoff_size_p = int(math.floor(data_size_p*0.6)) # ratio to divide dataset into train and test\n",
    "cutoff_size_n = int(math.floor(data_size_n*0.6)) #--\n",
    "train_pos = data_pos[:cutoff_size_p] #--\n",
    "train_neg = data_neg[:cutoff_size_n] #--\n",
    "test_pos = data_pos[cutoff_size_p:] #--\n",
    "test_neg = data_neg[cutoff_size_n:] #--\n",
    "print train_pos[:5]\n",
    "print train_neg[:5]\n",
    "print data_size_p, data_size_n, len(train_pos), len(test_pos) # --"
   ]
  },
  {
   "cell_type": "markdown",
   "metadata": {},
   "source": [
    "Extract features using gensim models."
   ]
  },
  {
   "cell_type": "markdown",
   "metadata": {
    "collapsed": false
   },
   "source": [
    "def feature_extraction(train_pos, train_neg):\n",
    "    labeled_train_pos = []\n",
    "    for index, words in enumerate(train_pos):\n",
    "        sentence = LabeledSentence(words, [\"TRAIN_POS_%s\"%index])\n",
    "        labeled_train_pos.append(sentence)\n",
    "    labeled_train_neg = []\n",
    "    for index, words in enumerate(train_neg):\n",
    "        sentence = LabeledSentence(words, [\"TRAIN_NEG_%s\"%index])\n",
    "        labeled_train_neg.append(sentence)\n",
    "    model = Doc2Vec(min_count=1, window=10, size=100, sample=1e-4, negative=5, workers=4)\n",
    "    sentences = labeled_train_pos + labeled_train_neg\n",
    "    model.build_vocab(sentences)\n",
    "    for i in range(5):\n",
    "        print \"Training iteration %d\" %(i)\n",
    "        random.shuffle(sentences)\n",
    "        model.train(sentences)\n",
    "    train_pos_vec, train_neg_vec = [], []\n",
    "    for index in range(len(labeled_train_pos)):\n",
    "        doc_vec = model.docvecs[\"TRAIN_POS_%s\"%index]\n",
    "        train_pos_vec.append(doc_vec)\n",
    "    for index in range(len(labeled_train_neg)):\n",
    "        doc_vec = model.docvecs[\"TRAIN_NEG_%s\"%index]\n",
    "        train_neg_vec.append(doc_vec)\n",
    "    return train_pos_vec, train_neg_vec\n",
    "\n",
    "train_pos_vec, train_neg_vec = feature_extraction(train_pos, train_neg)\n",
    "test_pos_vec, test_neg_vec = feature_extraction(test_pos, test_neg)"
   ]
  },
  {
   "cell_type": "code",
   "execution_count": 3,
   "metadata": {
    "collapsed": false
   },
   "outputs": [
    {
     "name": "stdout",
     "output_type": "stream",
     "text": [
      "Training iteration 0\n",
      "Training iteration 1\n",
      "Training iteration 2\n",
      "Training iteration 3\n",
      "Training iteration 4\n"
     ]
    }
   ],
   "source": [
    "def feature_vecs_DOC(train_pos, train_neg, test_pos, test_neg):\n",
    "    \"\"\"\n",
    "    Returns the feature vectors for all text in the train and test datasets.\n",
    "    \"\"\"\n",
    "    # Doc2Vec requires LabeledSentence objects as input.\n",
    "    # Turn the datasets from lists of words to lists of LabeledSentence objects.\n",
    "    # YOUR CODE HERE\n",
    "    labeled_train_pos = []\n",
    "    for index, words in enumerate(train_pos):\n",
    "        sentence = LabeledSentence(words, [\"TRAIN_POS_%s\"%index])\n",
    "        labeled_train_pos.append(sentence)\n",
    "    labeled_train_neg = []\n",
    "    for index, words in enumerate(train_neg):\n",
    "        sentence = LabeledSentence(words, [\"TRAIN_NEG_%s\"%index])\n",
    "        labeled_train_neg.append(sentence)\n",
    "    labeled_test_pos = []\n",
    "    for index, words in enumerate(test_pos):\n",
    "        sentence = LabeledSentence(words, [\"TEST_POS_%s\"%index])\n",
    "        labeled_test_pos.append(sentence)\n",
    "    labeled_test_neg = []\n",
    "    for index, words in enumerate(test_neg):\n",
    "        sentence = LabeledSentence(words, [\"TEST_NEG_%s\"%index])\n",
    "        labeled_test_neg.append(sentence)\n",
    "    # Initialize model\n",
    "    model = Doc2Vec(min_count=1, window=10, size=100, sample=1e-4, negative=5, workers=4)\n",
    "    sentences = labeled_train_pos + labeled_train_neg + labeled_test_pos + labeled_test_neg\n",
    "    model.build_vocab(sentences)\n",
    "    # Train the model\n",
    "    # This may take a bit to run \n",
    "    for i in range(5):\n",
    "        print \"Training iteration %d\" % (i)\n",
    "        random.shuffle(sentences)\n",
    "        model.train(sentences)\n",
    "    # Use the docvecs function to extract the feature vectors for the training and test data\n",
    "    # YOUR CODE HERE\n",
    "    train_pos_vec, train_neg_vec, test_pos_vec, test_neg_vec = [], [], [], []\n",
    "    for index in range(len(labeled_train_pos)):\n",
    "        doc_vec = model.docvecs[\"TRAIN_POS_%s\"%index]\n",
    "        train_pos_vec.append(doc_vec)\n",
    "    for index in range(len(labeled_train_neg)):\n",
    "        doc_vec = model.docvecs[\"TRAIN_NEG_%s\"%index]\n",
    "        train_neg_vec.append(doc_vec)\n",
    "    for index in range(len(labeled_test_pos)):\n",
    "        doc_vec = model.docvecs[\"TEST_POS_%s\"%index]\n",
    "        test_pos_vec.append(doc_vec)\n",
    "    for index in range(len(labeled_test_neg)):\n",
    "        doc_vec = model.docvecs[\"TEST_NEG_%s\"%index]\n",
    "        test_neg_vec.append(doc_vec)\n",
    "    # Return the four feature vectors\n",
    "    return train_pos_vec, train_neg_vec, test_pos_vec, test_neg_vec\n",
    "\n",
    "train_pos_vec, train_neg_vec, test_pos_vec, test_neg_vec = feature_vecs_DOC(train_pos, train_neg, test_pos, test_neg)"
   ]
  },
  {
   "cell_type": "markdown",
   "metadata": {},
   "source": [
    "Use featured training set to build model for binary classification."
   ]
  },
  {
   "cell_type": "markdown",
   "metadata": {
    "collapsed": true
   },
   "source": [
    "def build_model(train_pos_vec, train_neg_vec):\n",
    "    Y = [\"pos\"]*len(train_pos_vec) + [\"neg\"]*len(train_neg_vec)\n",
    "    X = train_pos_vec + train_neg_vec\n",
    "    lr_model = sklearn.linear_model.LogisticRegression()\n",
    "    lr_model.fit(X,Y)\n",
    "    return lr_model\n",
    "\n",
    "lr_model = build_model(train_pos_vec, train_neg_vec)"
   ]
  },
  {
   "cell_type": "code",
   "execution_count": 4,
   "metadata": {
    "collapsed": true
   },
   "outputs": [],
   "source": [
    "import sklearn.naive_bayes\n",
    "import sklearn.linear_model\n",
    "import sklearn.svm\n",
    "import sklearn.neighbors.nearest_centroid\n",
    "import sklearn.tree\n",
    "def build_model(train_pos_vec, train_neg_vec):\n",
    "    Y = [\"pos\"]*len(train_pos_vec) + [\"neg\"]*len(train_neg_vec)\n",
    "    X = train_pos_vec + train_neg_vec\n",
    "    # use multiple classification methods\n",
    "    svm_model = sklearn.svm.SVC() # SVM\n",
    "    svm_model.fit(X,Y)\n",
    "    nnc_model = sklearn.neighbors.nearest_centroid.NearestCentroid() # Nearest Neighbor\n",
    "    nnc_model.fit(X,Y)\n",
    "    lr_model = sklearn.linear_model.LogisticRegression() # Logistic Regression\n",
    "    lr_model.fit(X,Y)\n",
    "    nb_model = sklearn.naive_bayes.GaussianNB() # Naive Bayes\n",
    "    nb_model.fit(X,Y)\n",
    "    dt_model = sklearn.tree.DecisionTreeClassifier()\n",
    "    dt_model.fit(X,Y)\n",
    "    return svm_model, nnc_model, lr_model, nb_model, dt_model\n",
    "\n",
    "svm_model, nnc_model, lr_model, nb_model, dt_model = build_model(train_pos_vec, train_neg_vec)"
   ]
  },
  {
   "cell_type": "markdown",
   "metadata": {},
   "source": [
    "Evaluate the model by confusion matrix."
   ]
  },
  {
   "cell_type": "markdown",
   "metadata": {
    "collapsed": false
   },
   "source": [
    "def evaluate_model(model, test_pos_vec, test_neg_vec, print_confusion=False):\n",
    "    test_pos_predict = model.predict(test_pos_vec)\n",
    "    test_neg_predict = model.predict(test_neg_vec)\n",
    "    test_pos_Y = [\"pos\"]*len(test_pos_vec)\n",
    "    test_neg_Y = [\"neg\"]*len(test_neg_vec)\n",
    "    tp, tn, fp, fn = 0, 0, 0, 0\n",
    "    for i in range(len(test_pos_predict)):\n",
    "        if test_pos_predict[i] == test_pos_Y[i]:\n",
    "            tp += 1\n",
    "        else:\n",
    "            fn += 1\n",
    "    for i in range(len(test_neg_predict)):\n",
    "        if test_neg_predict[i] == test_neg_Y[i]:\n",
    "            tn += 1\n",
    "        else:\n",
    "            fp += 1\n",
    "    accuracy = float(tp+tn) / float(tp+tn+fp+fn+1)\n",
    "    precision = float(tp) / float(tp+fp+1)\n",
    "    recall = float(tp) / float(tp+fn+1)\n",
    "    if print_confusion:\n",
    "        print \"predicted:\\tpos\\tneg\"\n",
    "        print \"actual:\"\n",
    "        print \"pos\\t\\t%d\\t%d\" % (tp, fn)\n",
    "        print \"neg\\t\\t%d\\t%d\" % (fp, tn)\n",
    "    print \"accuracy: %f\" % (accuracy)\n",
    "    print \"precision: %f\" % (precision)\n",
    "    print \"recall: %f\" % (recall)\n",
    "    \n",
    "evaluate_model(lr_model, test_pos_vec, test_neg_vec, True)"
   ]
  },
  {
   "cell_type": "code",
   "execution_count": 5,
   "metadata": {
    "collapsed": false
   },
   "outputs": [
    {
     "name": "stdout",
     "output_type": "stream",
     "text": [
      "predicted:\tpos\tneg\n",
      "actual:\n",
      "pos\t\t0\t18\n",
      "neg\t\t0\t136\n",
      "accuracy: 0.877419\n",
      "precision: 0.000000\n",
      "recall: 0.000000\n",
      "Fscore: 0.000000\n",
      "predicted:\tpos\tneg\n",
      "actual:\n",
      "pos\t\t3\t15\n",
      "neg\t\t33\t103\n",
      "accuracy: 0.683871\n",
      "precision: 0.081081\n",
      "recall: 0.157895\n",
      "Fscore: 0.107138\n",
      "predicted:\tpos\tneg\n",
      "actual:\n",
      "pos\t\t0\t18\n",
      "neg\t\t0\t136\n",
      "accuracy: 0.877419\n",
      "precision: 0.000000\n",
      "recall: 0.000000\n",
      "Fscore: 0.000000\n",
      "predicted:\tpos\tneg\n",
      "actual:\n",
      "pos\t\t0\t18\n",
      "neg\t\t5\t131\n",
      "accuracy: 0.845161\n",
      "precision: 0.000000\n",
      "recall: 0.000000\n",
      "Fscore: 0.000000\n",
      "predicted:\tpos\tneg\n",
      "actual:\n",
      "pos\t\t2\t16\n",
      "neg\t\t28\t108\n",
      "accuracy: 0.709677\n",
      "precision: 0.064516\n",
      "recall: 0.105263\n",
      "Fscore: 0.079995\n"
     ]
    }
   ],
   "source": [
    "def evaluate_model(model, test_pos_vec, test_neg_vec, print_confusion=False):\n",
    "    test_pos_predict = model.predict(test_pos_vec)\n",
    "    test_neg_predict = model.predict(test_neg_vec)\n",
    "    test_pos_Y = [\"pos\"]*len(test_pos_vec)\n",
    "    test_neg_Y = [\"neg\"]*len(test_neg_vec)\n",
    "    tp, tn, fp, fn = 0, 0, 0, 0\n",
    "    for i in range(len(test_pos_predict)):\n",
    "        if test_pos_predict[i] == test_pos_Y[i]:\n",
    "            tp += 1\n",
    "        else:\n",
    "            fn += 1\n",
    "    for i in range(len(test_neg_predict)):\n",
    "        if test_neg_predict[i] == test_neg_Y[i]:\n",
    "            tn += 1\n",
    "        else:\n",
    "            fp += 1\n",
    "    accuracy = float(tp+tn) / float(tp+tn+fp+fn+1)\n",
    "    precision = float(tp) / float(tp+fp+1)\n",
    "    recall = float(tp) / float(tp+fn+1)\n",
    "    Fscore = (2*recall*precision) / (recall + precision+0.00001)\n",
    "    if print_confusion:\n",
    "        print \"predicted:\\tpos\\tneg\"\n",
    "        print \"actual:\"\n",
    "        print \"pos\\t\\t%d\\t%d\" % (tp, fn)\n",
    "        print \"neg\\t\\t%d\\t%d\" % (fp, tn)\n",
    "    print \"accuracy: %f\" % (accuracy)\n",
    "    print \"precision: %f\" % (precision)\n",
    "    print \"recall: %f\" % (recall)\n",
    "    print \"Fscore: %f\" % (Fscore)\n",
    "    \n",
    "evaluate_model(svm_model, test_pos_vec, test_neg_vec, True)\n",
    "evaluate_model(nnc_model, test_pos_vec, test_neg_vec, True)\n",
    "evaluate_model(lr_model, test_pos_vec, test_neg_vec, True)\n",
    "evaluate_model(nb_model, test_pos_vec, test_neg_vec, True)\n",
    "evaluate_model(dt_model, test_pos_vec, test_neg_vec, True)"
   ]
  }
 ],
 "metadata": {
  "kernelspec": {
   "display_name": "Python 2",
   "language": "python",
   "name": "python2"
  },
  "language_info": {
   "codemirror_mode": {
    "name": "ipython",
    "version": 2
   },
   "file_extension": ".py",
   "mimetype": "text/x-python",
   "name": "python",
   "nbconvert_exporter": "python",
   "pygments_lexer": "ipython2",
   "version": "2.7.11"
  }
 },
 "nbformat": 4,
 "nbformat_minor": 0
}
