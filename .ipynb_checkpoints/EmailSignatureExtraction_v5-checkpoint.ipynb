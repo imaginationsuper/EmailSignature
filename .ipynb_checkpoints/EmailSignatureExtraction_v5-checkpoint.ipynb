{
 "cells": [
  {
   "cell_type": "markdown",
   "metadata": {},
   "source": [
    "Continue with v4, try different feature extraction methods."
   ]
  },
  {
   "cell_type": "code",
   "execution_count": 1,
   "metadata": {
    "collapsed": true
   },
   "outputs": [],
   "source": [
    "import logging # record log event\n",
    "logging.basicConfig(format='%(asctime)s : %(levelname)s : %(message)s', level=logging.INFO)"
   ]
  },
  {
   "cell_type": "code",
   "execution_count": 2,
   "metadata": {
    "collapsed": false
   },
   "outputs": [
    {
     "ename": "NameError",
     "evalue": "name 'math' is not defined",
     "output_type": "error",
     "traceback": [
      "\u001b[0;31m---------------------------------------------------------------------------\u001b[0m",
      "\u001b[0;31mNameError\u001b[0m                                 Traceback (most recent call last)",
      "\u001b[0;32m<ipython-input-2-d4a3a544764d>\u001b[0m in \u001b[0;36m<module>\u001b[0;34m()\u001b[0m\n\u001b[1;32m     41\u001b[0m \u001b[0mdata_pos\u001b[0m \u001b[0;34m=\u001b[0m \u001b[0mdata_pos\u001b[0m\u001b[0;34m[\u001b[0m\u001b[0;34m:\u001b[0m\u001b[0mdata_size\u001b[0m\u001b[0;34m]\u001b[0m\u001b[0;34m\u001b[0m\u001b[0m\n\u001b[1;32m     42\u001b[0m \u001b[0mdata_neg\u001b[0m \u001b[0;34m=\u001b[0m \u001b[0mdata_neg\u001b[0m\u001b[0;34m[\u001b[0m\u001b[0;34m:\u001b[0m\u001b[0mdata_size\u001b[0m\u001b[0;34m]\u001b[0m\u001b[0;34m\u001b[0m\u001b[0m\n\u001b[0;32m---> 43\u001b[0;31m \u001b[0mcutoff_size\u001b[0m \u001b[0;34m=\u001b[0m \u001b[0mint\u001b[0m\u001b[0;34m(\u001b[0m\u001b[0mmath\u001b[0m\u001b[0;34m.\u001b[0m\u001b[0mfloor\u001b[0m\u001b[0;34m(\u001b[0m\u001b[0mdata_size\u001b[0m\u001b[0;34m*\u001b[0m\u001b[0;36m0.8\u001b[0m\u001b[0;34m)\u001b[0m\u001b[0;34m)\u001b[0m \u001b[0;31m# ratio to divide dataset into train and test\u001b[0m\u001b[0;34m\u001b[0m\u001b[0m\n\u001b[0m\u001b[1;32m     44\u001b[0m \u001b[0mtrain_pos\u001b[0m \u001b[0;34m=\u001b[0m \u001b[0mdata_pos\u001b[0m\u001b[0;34m[\u001b[0m\u001b[0;34m:\u001b[0m\u001b[0mcutoff_size\u001b[0m\u001b[0;34m]\u001b[0m\u001b[0;34m\u001b[0m\u001b[0m\n\u001b[1;32m     45\u001b[0m \u001b[0mtrain_neg\u001b[0m \u001b[0;34m=\u001b[0m \u001b[0mdata_neg\u001b[0m\u001b[0;34m[\u001b[0m\u001b[0;34m:\u001b[0m\u001b[0mcutoff_size\u001b[0m\u001b[0;34m]\u001b[0m\u001b[0;34m\u001b[0m\u001b[0m\n",
      "\u001b[0;31mNameError\u001b[0m: name 'math' is not defined"
     ]
    }
   ],
   "source": [
    "import re\n",
    "import math\n",
    "import collections\n",
    "import nltk\n",
    "import random\n",
    "random.seed(0)\n",
    "\n",
    "def load_data(path_to_data):\n",
    "    train_pos = []\n",
    "    train_neg = []\n",
    "    sigwords = []\n",
    "    with open(path_to_data+\"TotalSignatures.txt\",'r') as fes:\n",
    "        for line in fes:\n",
    "            if len(line) <= 3:\n",
    "                train_pos.append((' '.join(sigwords)).split()) # combine all the texts of each signature\n",
    "                sigwords = []\n",
    "            else:\n",
    "                sigwords.append(' '.join(line.lower().strip().split()))\n",
    "    with open(path_to_data+\"train_content.txt\",'r') as ftc:\n",
    "        for line in ftc:\n",
    "            words = [w.lower() for w in line.strip().split()]\n",
    "            if len(words) < 2:\n",
    "                continue\n",
    "            train_neg.append(words)\n",
    "    return train_pos, train_neg\n",
    "\n",
    "def data_filter(raw_text_data):\n",
    "    clean_text_data = []\n",
    "    for entry in raw_text_data:\n",
    "        clean_entry = re.sub(r\"\\n|(\\\\(.*?){)|}|[!$%^&*#()_+|~\\-={}\\[\\]:\\\";'<>?,.\\/\\\\]|[0-9]|[@]\", ' ', ' '.join(entry))\n",
    "        #clean_entry = re.sub(r\"\\n|(\\\\(.*?){)|}|[!$%^&*#_+|\\={}\\[\\]\\\";'<>?,.\\/]|[0-9]\", ' ', ' '.join(entry))\n",
    "        clean_entry = re.sub('\\s+', ' ', clean_entry)\n",
    "        clean_text_data.append(clean_entry.split())\n",
    "    return clean_text_data\n",
    "\n",
    "data_pos, data_neg = load_data('./')\n",
    "data_pos = data_filter(data_pos)\n",
    "data_neg = data_filter(data_neg)\n",
    "data_size = min(len(data_pos), len(data_neg))\n",
    "random.shuffle(data_pos)\n",
    "random.shuffle(data_neg)\n",
    "data_pos = data_pos[:data_size]\n",
    "data_neg = data_neg[:data_size]\n",
    "cutoff_size = int(math.floor(data_size*0.8)) # ratio to divide dataset into train and test\n",
    "train_pos = data_pos[:cutoff_size]\n",
    "train_neg = data_neg[:cutoff_size]\n",
    "test_pos = data_pos[cutoff_size:]\n",
    "test_neg = data_neg[cutoff_size:]\n",
    "print train_pos[:5]\n",
    "print train_neg[:5]\n",
    "print data_size, len(train_pos), len(test_pos)"
   ]
  },
  {
   "cell_type": "code",
   "execution_count": null,
   "metadata": {
    "collapsed": false
   },
   "outputs": [],
   "source": [
    "from gensim.models.doc2vec import LabeledSentence, Doc2Vec\n",
    "def feature_extraction_Doc2Vec(data_pos, data_neg): # use the word2vec under the hood\n",
    "    labeled_data_pos = []\n",
    "    for index, words in enumerate(data_pos):\n",
    "        sentence = LabeledSentence(words, [\"DATA_POS_%s\"%index])\n",
    "        labeled_data_pos.append(sentence)\n",
    "    labeled_data_neg = []\n",
    "    for index, words in enumerate(data_neg):\n",
    "        sentence = LabeledSentence(words, [\"DATA_NEG_%s\"%index])\n",
    "        labeled_data_neg.append(sentence)\n",
    "    model = Doc2Vec(min_count=1, window=10, size=100, sample=1e-4, negative=5, workers=4)\n",
    "    sentences = labeled_data_pos + labeled_data_neg\n",
    "    model.build_vocab(sentences)\n",
    "    for i in range(5):\n",
    "        print \"Training iteration %d\" %(i)\n",
    "        random.shuffle(sentences)\n",
    "        model.train(sentences)\n",
    "    data_pos_vec, data_neg_vec = [], []\n",
    "    for index in range(len(labeled_data_pos)):\n",
    "        doc_vec = model.docvecs[\"DATA_POS_%s\"%index]\n",
    "        data_pos_vec.append(doc_vec)\n",
    "    for index in range(len(labeled_data_neg)):\n",
    "        doc_vec = model.docvecs[\"DATA_NEG_%s\"%index]\n",
    "        data_neg_vec.append(doc_vec)\n",
    "    return data_pos_vec, data_neg_vec\n",
    "\n",
    "train_pos_vec, train_neg_vec = feature_extraction_Doc2Vec(train_pos, train_neg)\n",
    "test_pos_vec, test_neg_vec = feature_extraction_Doc2Vec(test_pos, test_neg)\n",
    "print len(train_pos[0]), len(train_pos_vec[0])\n",
    "#print(map(list,train_pos_vec[:2]))\n",
    "#print(map(list,test_pos_vec[:2]))"
   ]
  },
  {
   "cell_type": "markdown",
   "metadata": {
    "collapsed": true
   },
   "source": [
    "from gensim import corpora, models\n",
    "def feature_extraction_Word2Vec(data_pos, data_neg):\n",
    "    size_pos = len(data_pos)\n",
    "    size_neg = len(data_neg)\n",
    "    sentences = data_pos + data_neg\n",
    "    model = models.word2vec.Word2Vec(min_count=1,window=10, size=100, sample=1e-4, negative=5, workers=4, iter=5)\n",
    "    model.build_vocab(sentences)\n",
    "    model.train(sentences)\n",
    "    return model\n",
    "\n",
    "model = feature_extraction_Word2Vec(data_pos, data_neg)\n",
    "print(model.n_similarity(test_pos[0], test_pos[10]))\n",
    "#train_pos_vec, train_neg_vec = feature_extraction_Word2Vec(train_pos, train_neg)\n",
    "#test_pos_vec, test_neg_vec = feature_extraction_Word2Vec(test_pos, test_neg)"
   ]
  },
  {
   "cell_type": "code",
   "execution_count": null,
   "metadata": {
    "collapsed": false
   },
   "outputs": [],
   "source": [
    "import sklearn.naive_bayes\n",
    "import sklearn.linear_model\n",
    "import sklearn.svm\n",
    "import sklearn.neighbors.nearest_centroid\n",
    "import sklearn.tree\n",
    "def build_model(train_pos_vec, train_neg_vec):\n",
    "    Y = [\"pos\"]*len(train_pos_vec) + [\"neg\"]*len(train_neg_vec)\n",
    "    X = train_pos_vec + train_neg_vec\n",
    "    # use multiple classification methods\n",
    "    svm_model = sklearn.svm.SVC() # SVM\n",
    "    svm_model.fit(X,Y)\n",
    "    nnc_model = sklearn.neighbors.nearest_centroid.NearestCentroid() # Nearest Neighbor\n",
    "    nnc_model.fit(X,Y)\n",
    "    lr_model = sklearn.linear_model.LogisticRegression() # Logistic Regression\n",
    "    lr_model.fit(X,Y)\n",
    "    nb_model = sklearn.naive_bayes.GaussianNB() # Naive Bayes\n",
    "    nb_model.fit(X,Y)\n",
    "    dt_model = sklearn.tree.DecisionTreeClassifier()\n",
    "    dt_model.fit(X,Y)\n",
    "    return svm_model, nnc_model, lr_model, nb_model, dt_model\n",
    "\n",
    "svm_model, nnc_model, lr_model, nb_model, dt_model = build_model(train_pos_vec, train_neg_vec)"
   ]
  },
  {
   "cell_type": "code",
   "execution_count": null,
   "metadata": {
    "collapsed": false
   },
   "outputs": [],
   "source": [
    "def evaluate_model(model, test_pos_vec, test_neg_vec, print_confusion=False):\n",
    "    test_pos_predict = model.predict(test_pos_vec)\n",
    "    test_neg_predict = model.predict(test_neg_vec)\n",
    "    test_pos_Y = [\"pos\"]*len(test_pos_vec)\n",
    "    test_neg_Y = [\"neg\"]*len(test_neg_vec)\n",
    "    tp, tn, fp, fn = 0, 0, 0, 0\n",
    "    for i in range(len(test_pos_predict)):\n",
    "        if test_pos_predict[i] == test_pos_Y[i]:\n",
    "            tp += 1\n",
    "        else:\n",
    "            fn += 1\n",
    "    for i in range(len(test_neg_predict)):\n",
    "        if test_neg_predict[i] == test_neg_Y[i]:\n",
    "            tn += 1\n",
    "        else:\n",
    "            fp += 1\n",
    "    accuracy = float(tp+tn) / float(tp+tn+fp+fn+1)\n",
    "    precision = float(tp) / float(tp+fp+1)\n",
    "    recall = float(tp) / float(tp+fn+1)\n",
    "    Fscore = (2*recall*precision) / (recall + precision)\n",
    "    print str(model)\n",
    "    if print_confusion:\n",
    "        print \"predicted:\\tpos\\tneg\"\n",
    "        print \"actual:\"\n",
    "        print \"pos\\t\\t%d\\t%d\" % (tp, fn)\n",
    "        print \"neg\\t\\t%d\\t%d\" % (fp, tn)\n",
    "    print \"accuracy: %f\" % (accuracy)\n",
    "    print \"precision: %f\" % (precision)\n",
    "    print \"recall: %f\" % (recall)\n",
    "    print \"Fscore: %f\" % (Fscore)\n",
    "    print '\\n'\n",
    "\n",
    "evaluate_model(svm_model, test_pos_vec, test_neg_vec, True)\n",
    "evaluate_model(nnc_model, test_pos_vec, test_neg_vec, True)\n",
    "evaluate_model(lr_model, test_pos_vec, test_neg_vec, True)\n",
    "evaluate_model(nb_model, test_pos_vec, test_neg_vec, True)\n",
    "evaluate_model(dt_model, test_pos_vec, test_neg_vec, True)"
   ]
  },
  {
   "cell_type": "code",
   "execution_count": null,
   "metadata": {
    "collapsed": true
   },
   "outputs": [],
   "source": []
  }
 ],
 "metadata": {
  "kernelspec": {
   "display_name": "Python 2",
   "language": "python",
   "name": "python2"
  },
  "language_info": {
   "codemirror_mode": {
    "name": "ipython",
    "version": 2
   },
   "file_extension": ".py",
   "mimetype": "text/x-python",
   "name": "python",
   "nbconvert_exporter": "python",
   "pygments_lexer": "ipython2",
   "version": "2.7.11"
  }
 },
 "nbformat": 4,
 "nbformat_minor": 0
}
